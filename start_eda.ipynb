{
  "nbformat": 4,
  "nbformat_minor": 0,
  "metadata": {
    "colab": {
      "name": "start_eda.ipynb",
      "provenance": [],
      "collapsed_sections": [],
      "toc_visible": true,
      "machine_shape": "hm",
      "authorship_tag": "ABX9TyPX2hCeNu1kq5JwNzUi645q"
    },
    "kernelspec": {
      "name": "python3",
      "display_name": "Python 3"
    },
    "accelerator": "GPU"
  },
  "cells": [
    {
      "cell_type": "markdown",
      "metadata": {
        "id": "21bT-35D1Lh1",
        "colab_type": "text"
      },
      "source": [
        "# Install libraly"
      ]
    },
    {
      "cell_type": "code",
      "metadata": {
        "id": "yBLybMINZqht",
        "colab_type": "code",
        "colab": {}
      },
      "source": [
        "# for use BigQuery API you need upgrade packages and then install required libraly\n",
        "# Common Protos are common dependencies throughout the Google API ecosystem, and which are made available for use as dependencies elsewhere as BigQuery.\n",
        "! pip3 install --upgrade googleapis-common-protos\n",
        "\n",
        "! pip3 install google-cloud-bigquery-storage\n",
        "! pip3 install pyarrow\n",
        "! pip3 install fastavro\n"
      ],
      "execution_count": 0,
      "outputs": []
    },
    {
      "cell_type": "code",
      "metadata": {
        "id": "T8oIB35yh7cd",
        "colab_type": "code",
        "colab": {}
      },
      "source": [
        "# for created interactive visualisation\n",
        "! pip install plotly # We need install Plotly before Cufflinks\n",
        "! pip install cufflinks"
      ],
      "execution_count": 0,
      "outputs": []
    },
    {
      "cell_type": "code",
      "metadata": {
        "id": "jffLwZCf12Sa",
        "colab_type": "code",
        "colab": {}
      },
      "source": [
        "!pip show google-cloud-bigquery-storage\n",
        "\n",
        "\n",
        "# for dependens\n",
        "! pip3 freeze > requirements.txt"
      ],
      "execution_count": 0,
      "outputs": []
    },
    {
      "cell_type": "markdown",
      "metadata": {
        "id": "w0FcozJK3aNK",
        "colab_type": "text"
      },
      "source": [
        "# Imports and settings by visual"
      ]
    },
    {
      "cell_type": "code",
      "metadata": {
        "id": "3OjMW75XhcVR",
        "colab_type": "code",
        "colab": {}
      },
      "source": [
        "# print all output in cell\n",
        "from IPython.core.interactiveshell import InteractiveShell\n",
        "InteractiveShell.ast_node_interactivity = \"all\""
      ],
      "execution_count": 0,
      "outputs": []
    },
    {
      "cell_type": "code",
      "metadata": {
        "id": "I2LKrDPMFMLw",
        "colab_type": "code",
        "colab": {}
      },
      "source": [
        "import pandas as pd\n",
        "import cufflinks as cf\n",
        "import pandas_profiling\n",
        "import numpy as np\n",
        "from google.oauth2 import service_account\n",
        "from google.cloud import *\n",
        "import scipy.stats as sc\n",
        "import seaborn as sns\n",
        "import matplotlib\n",
        "import matplotlib.pyplot as plt"
      ],
      "execution_count": 0,
      "outputs": []
    },
    {
      "cell_type": "code",
      "metadata": {
        "id": "h_X3QnbFC_nz",
        "colab_type": "code",
        "colab": {}
      },
      "source": [
        "# будем отображать графики прямо в jupyter'e\n",
        "%matplotlib inline\n",
        "import seaborn as sns\n",
        "import matplotlib.pyplot as plt\n",
        "#графики в svg выглядят более четкими\n",
        "%config InlineBackend.figure_format = 'svg' \n",
        "\n",
        "#увеличим дефолтный размер графиков\n",
        "from pylab import rcParams\n",
        "rcParams['figure.figsize'] = 8, 5"
      ],
      "execution_count": 0,
      "outputs": []
    },
    {
      "cell_type": "code",
      "metadata": {
        "id": "4r4bbStfJCX-",
        "colab_type": "code",
        "outputId": "0b7fcb70-43bb-4d0c-80eb-f5cf1ee0a8ec",
        "colab": {
          "base_uri": "https://localhost:8080/",
          "height": 17
        }
      },
      "source": [
        "import plotly.offline\n",
        "cf.go_offline()\n",
        "cf.set_config_file(offline=False, world_readable=True)"
      ],
      "execution_count": 0,
      "outputs": [
        {
          "output_type": "display_data",
          "data": {
            "text/html": [
              "        <script type=\"text/javascript\">\n",
              "        window.PlotlyConfig = {MathJaxConfig: 'local'};\n",
              "        if (window.MathJax) {MathJax.Hub.Config({SVG: {font: \"STIX-Web\"}});}\n",
              "        if (typeof require !== 'undefined') {\n",
              "        require.undef(\"plotly\");\n",
              "        requirejs.config({\n",
              "            paths: {\n",
              "                'plotly': ['https://cdn.plot.ly/plotly-latest.min']\n",
              "            }\n",
              "        });\n",
              "        require(['plotly'], function(Plotly) {\n",
              "            window._Plotly = Plotly;\n",
              "        });\n",
              "        }\n",
              "        </script>\n",
              "        "
            ]
          },
          "metadata": {
            "tags": []
          }
        }
      ]
    },
    {
      "cell_type": "code",
      "metadata": {
        "id": "QW0Ka1BSFbPr",
        "colab_type": "code",
        "colab": {}
      },
      "source": [
        "# logging need for check loading progress\n",
        "import logging\n",
        "logger = logging.getLogger('pandas_gbq')\n",
        "logger.setLevel(logging.DEBUG)\n",
        "logger.addHandler(logging.StreamHandler())"
      ],
      "execution_count": 0,
      "outputs": []
    },
    {
      "cell_type": "markdown",
      "metadata": {
        "id": "HWgPQwiM1HHq",
        "colab_type": "text"
      },
      "source": [
        "# Define credintial and ID project"
      ]
    },
    {
      "cell_type": "code",
      "metadata": {
        "id": "hk8tScEkFma5",
        "colab_type": "code",
        "colab": {}
      },
      "source": [
        "# initial project\n",
        "project_id_3='bionic-tracer-254818'\n",
        "project_id_2='sqlbig'\n",
        "project_id='sotf-265920'"
      ],
      "execution_count": 0,
      "outputs": []
    },
    {
      "cell_type": "code",
      "metadata": {
        "id": "m-gAljrsF1L1",
        "colab_type": "code",
        "colab": {}
      },
      "source": [
        "# get credentianls and Authenticating with a Service Account\n",
        "credentials = service_account.Credentials.from_service_account_file(\n",
        "    'sotf-265920-2def50409aef.json')\n",
        "credentials_2 = service_account.Credentials.from_service_account_file(\n",
        "    'sqlbig-aa81296ac0f5.json')\n",
        "credentials_3 = service_account.Credentials.from_service_account_file(\n",
        "    'bionic-tracer-254818-38d6dd6ee2db.json')"
      ],
      "execution_count": 0,
      "outputs": []
    },
    {
      "cell_type": "markdown",
      "metadata": {
        "id": "65zbqU0M30KL",
        "colab_type": "text"
      },
      "source": [
        "# *SET query and load data use API*"
      ]
    },
    {
      "cell_type": "code",
      "metadata": {
        "id": "cpne4bjEFtw8",
        "colab_type": "code",
        "colab": {}
      },
      "source": [
        "query_tst = \"\"\"\n",
        "SELECT *\n",
        "FROM `bigquery-public-data.iowa_liquor_sales.sales` \n",
        "\"\"\""
      ],
      "execution_count": 0,
      "outputs": []
    },
    {
      "cell_type": "code",
      "metadata": {
        "id": "BOyTti2LGGMC",
        "colab_type": "code",
        "outputId": "bd9f61eb-c56c-4e2a-8d96-b9d7d568b888",
        "colab": {
          "base_uri": "https://localhost:8080/",
          "height": 187
        }
      },
      "source": [
        "df_iq_retail = pd.read_gbq(query_tst, \n",
        "                 project_id=project_id, \n",
        "                 credentials=credentials,   \n",
        "                use_bqstorage_api=True,    \n",
        "              configuration = {'query': {'allowLargeResult': True}}, \n",
        "                  dialect='standard')"
      ],
      "execution_count": 0,
      "outputs": [
        {
          "output_type": "stream",
          "text": [
            "Requesting query... \n",
            "Query running...\n",
            "Job ID: 9e650475-427c-4752-9eae-8ab630fbba63\n",
            "Query done.\n",
            "Cache hit.\n",
            "\n",
            "Got 17735173 rows.\n",
            "\n",
            "Total time taken 305.06 s.\n",
            "Finished at 2020-02-02 18:34:04.\n"
          ],
          "name": "stderr"
        }
      ]
    },
    {
      "cell_type": "markdown",
      "metadata": {
        "id": "66Ka1VdtYFEV",
        "colab_type": "text"
      },
      "source": [
        "# **CLEAR** **DATA**"
      ]
    },
    {
      "cell_type": "markdown",
      "metadata": {
        "id": "JShxaqnRNWKp",
        "colab_type": "text"
      },
      "source": [
        "The number of unique country code for the county number is 109, and the unique country code for the country itself is 201. The column describing the country has inherent duplication due to a different register (ex. Polk - 125541 POLK - 53821) is perceived as two different countries - lead to the same register.\n",
        "\n",
        "---\n",
        "\n",
        "К-сво уникальных кодов стран county number - 109, а самих уникальных стран country - 201. Колонке с описанием страны присущее дублирование за счет разного регистра (ex. polk - 125541 POLK - 53821) воспринимается как две разные страны - привести к одному регистру.\n",
        "\n"
      ]
    },
    {
      "cell_type": "code",
      "metadata": {
        "id": "VUWHU_4PNZIZ",
        "colab_type": "code",
        "colab": {}
      },
      "source": [
        "# приведение к одному регистру\n",
        "df_iq_retail['county'] = df_iq_retail['county'].str.lower()\n",
        "df_iq_retail['address'] = df_iq_retail['address'].str.lower()\n",
        "df_iq_retail['city'] = df_iq_retail['city'].str.lower()\n",
        "df_iq_retail['category_name'] = df_iq_retail['category_name'].str.lower()\n",
        "df_iq_retail['vendor_name'] = df_iq_retail['vendor_name'].str.lower()\n",
        "df_iq_retail['item_description'] = df_iq_retail['item_description'].str.lower()\n",
        "df_iq_retail['store_name'] = df_iq_retail['store_name'].str.lower()"
      ],
      "execution_count": 0,
      "outputs": []
    },
    {
      "cell_type": "code",
      "metadata": {
        "id": "qbGYcvROSAg0",
        "colab_type": "code",
        "colab": {}
      },
      "source": [
        "# check on unique value\n",
        "print(df_iq_retail['county'].drop_duplicates().count())\n",
        "print(df_iq_retail['county_number'].drop_duplicates().count())"
      ],
      "execution_count": 0,
      "outputs": []
    },
    {
      "cell_type": "code",
      "metadata": {
        "id": "ODT7SoIQD2WJ",
        "colab_type": "code",
        "colab": {}
      },
      "source": [
        "#не бъются к-ство category и category name = distinct 84 vs 80\n",
        "print(df_iq_retail['category'].drop_duplicates().count())\n",
        "print(df_iq_retail['category_name'].drop_duplicates().count())"
      ],
      "execution_count": 0,
      "outputs": []
    },
    {
      "cell_type": "markdown",
      "metadata": {
        "id": "QZuVsXt8cG2I",
        "colab_type": "text"
      },
      "source": [
        "# Missing values\n",
        "\n",
        "Missing values are fine when we do Exploratory Data Analysis, but they will have to be filled in for machine learning methods."
      ]
    },
    {
      "cell_type": "markdown",
      "metadata": {
        "id": "1kCZXcoBlOS9",
        "colab_type": "text"
      },
      "source": [
        "## TODO:\n",
        "* Есть названия и коды всех магазинов, но при этом к-ство пропущеных адрессов около трёх тысяч. Есть ли магазины с кодом, но без адреса, могу ли по ним заполнить пропуски?\n",
        "* При построении аналитики по странам - говорить, что у выборку не вошли только 0.8% от общего к-тсва данных по продажам (наны)  \n",
        "* не бъются к-ство category и category name = distinct 84 vs 80 \n",
        "* к-ство кодов item_number продуктов больше, чем их расшифоровок item_description = 3605 va 3406. могу ли заполнить \n",
        "* item_number - какие позиции покупают вместе?\n",
        "* \n"
      ]
    },
    {
      "cell_type": "markdown",
      "metadata": {
        "colab_type": "text",
        "id": "9e9tGGiEDWkf"
      },
      "source": [
        "# Exploratory Data Analysis\n",
        "Exploratory Data Analysis (EDA) is an open-ended process where we make plots and calculate statistics in order to explore our data. The purpose is to to find anomalies, patterns, trends, or relationships. These may be interesting by themselves (for example finding a correlation between two variables) or they can be used to inform modeling decisions such as which features to use. In short, the goal of EDA is to determine what our data can tell us! EDA generally starts out with a high-level overview, and then narrows in to specific parts of the dataset once as we find interesting areas to examine."
      ]
    },
    {
      "cell_type": "markdown",
      "metadata": {
        "id": "tjF9myge4uLA",
        "colab_type": "text"
      },
      "source": [
        "# Generate report for data set use libraly \n",
        "[*pandas-profiling*](https://github.com/pandas-profiling/pandas-profiling) \n"
      ]
    },
    {
      "cell_type": "code",
      "metadata": {
        "id": "40Dq8OKNltLw",
        "colab_type": "code",
        "colab": {}
      },
      "source": [
        "#profile = pandas_profiling.ProfileReport(df_iq_retail)\n",
        "#profile.to_file(outputfile=\"IOWA_liquer_data_profiling_1.html\")\n",
        "pandas_profiling.ProfileReport(df_iq_retail).to_file(outputfile=\"IOWA_liquer_data_profiling_1.html\")"
      ],
      "execution_count": 0,
      "outputs": []
    },
    {
      "cell_type": "markdown",
      "metadata": {
        "id": "KzPw70zOdyT4",
        "colab_type": "text"
      },
      "source": [
        "You know that you are dealing  with categorical (14) and numerical (6) data. \n",
        "\n",
        "\n",
        "> *Numerical* variables can be used to extract many different measurements such as the mean, standard deviation, etc.\n",
        "\n",
        "> *Categorical* variables are generally an interesting way of segmenting and grouping the data.\n",
        "\n"
      ]
    },
    {
      "cell_type": "code",
      "metadata": {
        "id": "PUntIFMhLmhV",
        "colab_type": "code",
        "colab": {}
      },
      "source": [
        "cat_cols = ['Product_Fat_Content','Product_Type',\n",
        "            'Supermarket _Size', 'Supermarket_Location_Type',\n",
        "           'Supermarket_Type' ]\n",
        "\n",
        "num_cols = ['Product_Weight', 'Product_Shelf_Visibility',\n",
        "            'Product_Price', 'Supermarket_Opening_Year', 'Product_Supermarket_Sales']"
      ],
      "execution_count": 0,
      "outputs": []
    },
    {
      "cell_type": "markdown",
      "metadata": {
        "id": "lSqZ-TsYLsAU",
        "colab_type": "text"
      },
      "source": [
        "# **DATA VISUALIZATION**"
      ]
    },
    {
      "cell_type": "markdown",
      "metadata": {
        "id": "XdbvLdv5L30b",
        "colab_type": "text"
      },
      "source": [
        "# **Scatter plot for Numerical Features**"
      ]
    },
    {
      "cell_type": "code",
      "metadata": {
        "id": "wJH5Jxx0L2gJ",
        "colab_type": "code",
        "colab": {}
      },
      "source": [
        "for col in num_cols:\n",
        "    fig = plt.figure(figsize=(6,6)) # define plot area\n",
        "    ax = fig.gca() # define axis  \n",
        "\n",
        "    newdata.plot.scatter(x = col, y = 'Product_Supermarket_Sales', ax = ax)"
      ],
      "execution_count": 0,
      "outputs": []
    },
    {
      "cell_type": "markdown",
      "metadata": {
        "id": "de-JGfg8KVPP",
        "colab_type": "text"
      },
      "source": [
        "# **PAIR PLOT OF COLUMNS WITHOUT MISSING VALUES**"
      ]
    },
    {
      "cell_type": "code",
      "metadata": {
        "id": "uptUJv3jKeW5",
        "colab_type": "code",
        "colab": {}
      },
      "source": [
        "# exclude missing category\n",
        "\n",
        "cat_cols_pair = ['category_name','vendor_name','item_description' ]\n",
        "\n",
        "cols_2_pair = ['Product_Fat_Content',\n",
        "             'Product_Shelf_Visibility',\n",
        "             'Product_Type',\n",
        "             'Product_Price',\n",
        "             'Supermarket_Opening_Year',\n",
        "             'Supermarket_Location_Type',\n",
        "             'Supermarket_Type',\n",
        "             'Product_Supermarket_Sales']\n",
        "\n",
        "for col in cat_cols_pair:\n",
        "    sns.set()\n",
        "    plt.figure()\n",
        "    sns.pairplot(newdata[cols_2_pair], height=3.0, hue=col)\n",
        "    plt.show()"
      ],
      "execution_count": 0,
      "outputs": []
    },
    {
      "cell_type": "markdown",
      "metadata": {
        "id": "1On1YamUP_6H",
        "colab_type": "text"
      },
      "source": [
        "# Univariate Outlier treatment\n",
        "\n",
        "Many algorithms are sensitive to the range and distribution of attribute values in the input data. Outliers in input data can skew and mislead the results and make results less reliable, that's why we have to recognize all the outliers and treat them -  is called *IQR score technique*.\n",
        "\n",
        "*   bottles_sold - (γ1 = 55.414) Skewed\n",
        "*   sale_dollars - (γ1 = 75.021) Skewed\n",
        "*   volume_sold_liters - (γ1 = 56.305) Skewed\n",
        "*   bottle_volume_ml - (γ1 = 244.73) Skewed\n",
        "*   state_bottle_cost - (γ1 = 246.65) Skewed"
      ]
    },
    {
      "cell_type": "code",
      "metadata": {
        "id": "_uHT62W8Y7Wv",
        "colab_type": "code",
        "colab": {}
      },
      "source": [
        "%matplotlib inline\n",
        "matplotlib.style.use('ggplot')"
      ],
      "execution_count": 0,
      "outputs": []
    },
    {
      "cell_type": "code",
      "metadata": {
        "id": "2dUlLAdVRccQ",
        "colab_type": "code",
        "outputId": "d97d0ceb-2b8d-4446-c135-a004e19a6a4c",
        "colab": {
          "base_uri": "https://localhost:8080/",
          "height": 1000
        }
      },
      "source": [
        "# Percentile based outlier removal \n",
        "def percentile_based_outlier(data, threshold=95):\n",
        "    diff = (100 - threshold) / 2.0\n",
        "    minval, maxval = np.percentile(data, [diff, 100 - diff])\n",
        "    return (data < minval) | (data > maxval)\n",
        "\n",
        "\n",
        "col_names = ['bottles_sold','sale_dollars', 'volume_sold_liters', 'bottle_volume_ml', 'state_bottle_cost']\n",
        "\n",
        "fig, ax = plt.subplots(len(col_names), figsize=(8,40))\n",
        "\n",
        "for i, col_val in enumerate(col_names):\n",
        "    x = df_iq_retail[col_val][:1000]\n",
        "    sns.distplot(x, ax=ax[i], rug=True, hist=False)\n",
        "    outliers = x[percentile_based_outlier(x)]\n",
        "    ax[i].plot(outliers, np.zeros_like(outliers), 'ro', clip_on=False)\n",
        "\n",
        "    ax[i].set_title('Outlier detection - '+col_val, fontsize=10)\n",
        "    ax[i].set_xlabel(col_val, fontsize=8)\n",
        "    \n",
        "plt.show()"
      ],
      "execution_count": 0,
      "outputs": [
        {
          "output_type": "display_data",
          "data": {
            "image/png": "[encoded data removed]",
            "text/plain": [
              "<Figure size 576x2880 with 5 Axes>"
            ]
          },
          "metadata": {
            "tags": []
          }
        }
      ]
    },
    {
      "cell_type": "markdown",
      "metadata": {
        "id": "51CU9mDxUq7s",
        "colab_type": "text"
      },
      "source": [
        "# Numeric Variable\n",
        "Plots with a kernel density estimate and histogram with bin size determined automatically"
      ]
    },
    {
      "cell_type": "code",
      "metadata": {
        "id": "bLcqv6QgUqiZ",
        "colab_type": "code",
        "colab": {}
      },
      "source": [
        "col_names = [ 'store_number', 'county_number', \n",
        "             'category', 'vendor_number',\n",
        "              'item_number',  'pack',       \n",
        "   'bottle_volume_ml' ,  'bottles_sold', \n",
        "  'state_bottle_cost', 'state_bottle_retail', # state_bottle_retail is highly correlated with state_bottle_cost\n",
        "  'sale_dollars',  'volume_sold_liters']\n",
        "\n",
        "fig, ax = plt.subplots(len(col_names), figsize=(16,12))\n",
        "\n",
        "for i, col_val in enumerate(col_names):\n",
        "        \n",
        "    sns.distplot(df_iq_retail[col_val], hist=True, ax=ax[i])\n",
        "    ax[i].set_title('Freq dist '+col_val, fontsize=10)\n",
        "    ax[i].set_xlabel(col_val, fontsize=8)\n",
        "    ax[i].set_ylabel('Count', fontsize=8)\n",
        "    \n",
        "plt.show()"
      ],
      "execution_count": 0,
      "outputs": []
    },
    {
      "cell_type": "markdown",
      "metadata": {
        "id": "O30bGAuUSJzY",
        "colab_type": "text"
      },
      "source": [
        "# Univariate outlier detection\n",
        "To analysis the outliers in the numeric features of the dataset"
      ]
    },
    {
      "cell_type": "markdown",
      "metadata": {
        "id": "4TNQOWC_0LmP",
        "colab_type": "text"
      },
      "source": [
        "# Обследование распределения данных\n",
        "\n",
        "\n",
        "---\n",
        "Наиболее часто используются следующие виды диаграмм: коробчатая диаграмма (или ящик с усами) и гистограммы. \n",
        "Ящик с усами － удобное компактное представление о выборке, позволяет на одном изображении увидеть несколько исследуемых признаков, а значит, сравнить их друг с другом. Иначе этот вид графика называется диаграмма размаха (англ. box-and-whiskers diagram or plot, box plot). Такой вид диаграммы в понятной форме показывает медиану (или, если нужно, среднее), нижний и верхний квартили, минимальное и максимальное значение выборки и выбросы. Несколько таких ящиков можно нарисовать бок о бок, чтобы визуально сравнивать одно распределение с другим; их можно располагать как горизонтально, так и вертикально. Расстояния между различными частями ящика позволяют определить степень разброса (дисперсии), асимметрии данных и выявить выбросы.\n",
        "\n"
      ]
    },
    {
      "cell_type": "code",
      "metadata": {
        "id": "FZzUHVKhSUI_",
        "colab_type": "code",
        "colab": {}
      },
      "source": [
        "col_names = [ 'store_number', 'county_number', \n",
        "             'category', 'vendor_number',\n",
        "              'item_number',  'pack',       \n",
        "   'bottle_volume_ml' ,  'bottles_sold', \n",
        "  'state_bottle_cost', 'state_bottle_retail', # state_bottle_retail is highly correlated with state_bottle_cost\n",
        "  'sale_dollars',  'volume_sold_liters']\n",
        "\n",
        "fig, ax = plt.subplots(len(col_names), figsize=(8,40))\n",
        "\n",
        "for i, col_val in enumerate(col_names):\n",
        "        \n",
        "    sns.boxplot(y=df_iq_retail[col_val], ax=ax[i])\n",
        "    ax[i].set_title('Box plot - '+col_val, fontsize=10)\n",
        "    ax[i].set_xlabel(col_val, fontsize=8)\n",
        "    \n",
        "plt.show()"
      ],
      "execution_count": 0,
      "outputs": []
    },
    {
      "cell_type": "markdown",
      "metadata": {
        "id": "vQwZw4Po0f7C",
        "colab_type": "text"
      },
      "source": [
        "# **Корреляция**\n",
        "\n",
        "Cпирмена (норм. распред, линейная связь - график рассеяния, точечная ) - не парметрическая. \n",
        "Пирсона (монотонная связь - падение или возрастание, без перегибов).\n",
        "\n",
        "\n",
        "---\n",
        "Наблюдается высокая кореляция для:\n",
        "\n",
        "1.   state_bottle_retail is highly correlated with state_bottle_cost (ρ = 0.99993) \n",
        "2.   volume_sold_gallons is highly correlated with volume_sold_liters (ρ = 1)  - один и тот же показатель, но в разных единицах измерения\n",
        "3.    volume_sold_liters is highly correlated with bottles_sold (ρ = 0.94871) - поскольку бутылка имеет зависимую х-ку объем, чем больше объем, тем выше стоимость.\n",
        "\n",
        "Степень корреляции:\n",
        "\n",
        "\n",
        "*   *сильная положительная корреляция* о зависимости - увеличение-увеличение (уменьшение-уменьшение) для ...............\n",
        "*   *сильная негативная корреляция* о зависимости увеличение-уменьшение (уменьшение-увеличение) для ...............\n",
        "\n",
        "\n",
        "*!!!!!!!ОПИСАТЬ два графика по корреляции с репорта*"
      ]
    },
    {
      "cell_type": "markdown",
      "metadata": {
        "id": "Hhi1hSslcvbP",
        "colab_type": "text"
      },
      "source": [
        "**PACK**\n",
        "\n",
        "\n",
        "---\n",
        "Q1 - 6\n",
        "Median\t- 12\n",
        "Mean\t12.288\n",
        "Q3 - 12\n",
        "Медиана и 3 квартиль (не больше 75% покупок)  указывают на наиболее ходовую упаковку - 12 шт. \n",
        "Медиана и средне почти на одном уровне, но не равны - распределение не нормальное.\n",
        "\n",
        "стандартное отклонение = **7.6167** свидет. о сильной рассеянности ряда значений относительно среднего. \n"
      ]
    },
    {
      "cell_type": "markdown",
      "metadata": {
        "id": "o_yyELQacxJH",
        "colab_type": "text"
      },
      "source": [
        "**BOTTLE VOLUME ML**\n",
        "\n",
        "\n",
        "---\n",
        "Q1 -\t750\n",
        "Median -\t750\n",
        "Mean\t918.74\n",
        "Q3 - 1000\n",
        "Распределение не нормальное. \n",
        "Второй квартиль (меньше 25% покупок) и медиана указывают на объем покупок - 750 мл. Больше 75 % - выбирают 1000 мл.\n",
        "\n",
        "стандарное отклонение - очень сильная рассеянность значений объема бутылки 677.12\n",
        "коеф. вариации Coef of variation -\t0.73701 при планировании указывает на большую изменчивость попыта на объем бутилки. НО необходимо проследить категорию товара (крепкий алкоголь, вино, шампанское и т.д.)! \n"
      ]
    },
    {
      "cell_type": "markdown",
      "metadata": {
        "id": "VGgCaLwpwSQa",
        "colab_type": "text"
      },
      "source": [
        "**Анализ временных рядов.**\n",
        "\n",
        "\n",
        "---\n",
        "Для каждого года создается блок с усами и выстраивается в ряд для непосредственного сравнения.\n",
        "В течение некоторого интервала это может помочь определить выбросы (точки выше или ниже усов).\n",
        "Через определенные промежутки времени, в данном случае, годы, мы можем искать многолетние тренды, сезонность и другую структурную информацию, которую можно смоделировать."
      ]
    },
    {
      "cell_type": "code",
      "metadata": {
        "id": "TzeUkBOut-1G",
        "colab_type": "code",
        "colab": {}
      },
      "source": [
        "# по году распределение. \n",
        "\n",
        "groups = df_iq_retail['date'].groupby(TimeGrouper('A'))\n",
        "years = DataFrame()\n",
        "for name, group in groups:\n",
        "\tyears[name.year] = group.values\n",
        "years.plot(subplots=True, legend=False)\n",
        "pyplot.show()"
      ],
      "execution_count": 0,
      "outputs": []
    },
    {
      "cell_type": "markdown",
      "metadata": {
        "id": "kuziH0h2wvV4",
        "colab_type": "text"
      },
      "source": [
        "Мы также можем быть заинтересованы в распределении значений по месяцам в течение года.\n",
        "Выбираем один год "
      ]
    },
    {
      "cell_type": "markdown",
      "metadata": {
        "id": "CuaSZDP-1-ge",
        "colab_type": "text"
      },
      "source": [
        "[link text](https://miro.medium.com/max/533/0*NDKhtpZ5smbeyzku.)"
      ]
    },
    {
      "cell_type": "code",
      "metadata": {
        "id": "8pGDyFbSuxQB",
        "colab_type": "code",
        "colab": {}
      },
      "source": [
        "# Потом взять год с выбросами и проанализировать внутри месяца. Аналогично с последним закрытым годом (2019)\n",
        "\n",
        "one_year = df_iq_retail['date']['2019']\n",
        "groups = one_year.groupby(TimeGrouper('M'))\n",
        "months = concat([DataFrame(x[1].values) for x in groups], axis=1)\n",
        "months = DataFrame(months)\n",
        "months.columns = range(1,13)\n",
        "months.boxplot()\n",
        "pyplot.show()"
      ],
      "execution_count": 0,
      "outputs": []
    },
    {
      "cell_type": "code",
      "metadata": {
        "id": "TbK_F7G30hUQ",
        "colab_type": "code",
        "colab": {}
      },
      "source": [
        "# функция для визуализации выручки по странам\n",
        "def scatterplot(x_data, y_data, x_label=\"\", y_label=\"\", title=\"\", color = \"r\", yscale_log=False):\n",
        "\n",
        "    # Create the plot object\n",
        "    _, ax = plt.subplots()\n",
        "\n",
        "    # Plot the data, set the size (s), color and transparency (alpha)\n",
        "    # of the points\n",
        "    ax.scatter(x_data, y_data, s = 10, color = color, alpha = 0.75)\n",
        "\n",
        "    if yscale_log == True:\n",
        "        ax.set_yscale('log')\n",
        "\n",
        "    # Label the axes and provide a title\n",
        "    ax.set_title(title)\n",
        "    ax.set_xlabel(x_label)\n",
        "    ax.set_ylabel(y_label)"
      ],
      "execution_count": 0,
      "outputs": []
    },
    {
      "cell_type": "markdown",
      "metadata": {
        "id": "fQY_xVB-cxQK",
        "colab_type": "text"
      },
      "source": [
        "Топ-10 магазинов по транзакциям. КАК они распределяются по годам? какой объем выручки?"
      ]
    },
    {
      "cell_type": "code",
      "metadata": {
        "id": "6cPeWjsZ1JFq",
        "colab_type": "code",
        "colab": {}
      },
      "source": [
        "# для отрисовки магазинов \n",
        "\n",
        "[ 'store_number', 'county_number', \n",
        "             'category', 'vendor_number',\n",
        "              'item_number',  'pack',       \n",
        "   'bottle_volume_ml' ,  'bottles_sold', \n",
        "  'state_bottle_cost', 'state_bottle_retail', # state_bottle_retail is highly correlated with state_bottle_cost\n",
        "  'sale_dollars',  'volume_sold_liters']\n",
        "\n",
        "top_stores = ['date', 'store_name', 'item_description']\n",
        "names = top_stores.groupby('item_description', as_index=False).sum().sort_values('count', ascending=False)\n",
        "names.head(10)"
      ],
      "execution_count": 0,
      "outputs": []
    },
    {
      "cell_type": "markdown",
      "metadata": {
        "id": "dVeOQ-g3cxVF",
        "colab_type": "text"
      },
      "source": [
        "# **Цель определить топовые и плохо продаваемые позиции.**"
      ]
    },
    {
      "cell_type": "markdown",
      "metadata": {
        "id": "3Br72U-pdJ_1",
        "colab_type": "text"
      },
      "source": [
        "# *XYZ-анализ*\n",
        "\n",
        "Основная идея XYZ-анализа состоит в группи­ровании объектов по однородности анализи­руемых параметров, другими словами - по коэффициенту вариации.\n",
        "определеить коеф. вариации по каждому товару\n",
        "\n",
        "периодичность: месяц - т.к. мы не располагаем данными о переодичностb обновляемости товаров"
      ]
    },
    {
      "cell_type": "code",
      "metadata": {
        "id": "w_p7pBFJ_VVk",
        "colab_type": "code",
        "colab": {}
      },
      "source": [
        "# add new column to analyze by \n",
        "df_iq_retail['month_year'] = df_iq_retail['date'].dt.to_period('M')\n",
        "df_iq_retail['year'] = df_iq_retail['date'].dt.to_period('Y')\n",
        "\n"
      ],
      "execution_count": 0,
      "outputs": []
    },
    {
      "cell_type": "code",
      "metadata": {
        "id": "IOqyWPiYB0pD",
        "colab_type": "code",
        "colab": {}
      },
      "source": [
        "# сет за последний год\n",
        "df_iq_retail_last_y = df_iq_retail[df_iq_retail['year']=='2019']"
      ],
      "execution_count": 0,
      "outputs": []
    },
    {
      "cell_type": "code",
      "metadata": {
        "id": "a9w2vYZY7fcN",
        "colab_type": "code",
        "colab": {}
      },
      "source": [
        "# сводная таблица по каждому продукту\n",
        "df_iq_retail_last_y.pivot_table(index='item_number', columns='month_year',\n",
        "\t\t\t\t\t\t\t\taggfunc={'bottle_volume_ml':sum, 'state_bottle_retail':sum, 'pack':count})"
      ],
      "execution_count": 0,
      "outputs": []
    },
    {
      "cell_type": "markdown",
      "metadata": {
        "id": "4b6CgboN7f_0",
        "colab_type": "text"
      },
      "source": [
        "**Вывод. **Товары групп А и В ???????????????? обеспечивают основной товарооборот компании. Поэтому необходимо обеспечивать постоянное их наличие. Обще­принятой является практика, когда по товарам группы А создается избыточный страховой за­пас, а по товарам группы В - достаточный."
      ]
    },
    {
      "cell_type": "markdown",
      "metadata": {
        "id": "uZo1dejKU6nr",
        "colab_type": "text"
      },
      "source": [
        "volume_sold_gallons is highly correlated with volume_sold_liters (ρ = 1) Rejected\n",
        "state_bottle_retail is highly correlated with state_bottle_cost (ρ = 0.99997) Rejected"
      ]
    },
    {
      "cell_type": "markdown",
      "metadata": {
        "id": "jJFYFv7DT8Ch",
        "colab_type": "text"
      },
      "source": [
        "так же можно прослеживать, какие наборы продуктов чаще всего покупают вместе? нужно для рекомендаций"
      ]
    },
    {
      "cell_type": "markdown",
      "metadata": {
        "id": "7_PJVPh7GQif",
        "colab_type": "text"
      },
      "source": [
        "# Iowa Liquor Sales by Year"
      ]
    },
    {
      "cell_type": "code",
      "metadata": {
        "id": "3XvBxWcPH15a",
        "colab_type": "code",
        "colab": {}
      },
      "source": [
        "sales_df = df_iq_retail[['year', 'state_bottle_retail', 'volume_sold_liters']]\n",
        " \n",
        "sales_df.groupby('year').sum().plot(kind='bar', rot=45) #plot(kind='bar', rot=45)"
      ],
      "execution_count": 0,
      "outputs": []
    },
    {
      "cell_type": "markdown",
      "metadata": {
        "id": "YEFr8BEnfZl-",
        "colab_type": "text"
      },
      "source": [
        "Гипотезы для проверки:\n",
        "\n",
        "1. Гипотеза влияния места расположения магазина (социально-демографический фактор). Клас магазина (ориентирован на  масс-маркет или премиум сегмент) и товарный ассортимент в нём. \n",
        "2. Гипотеза влияния дня недели на объем продаж.\n",
        "3. Данные по персоналу, который работает в данном магазине (метрика удовлетворения качеством сервисов - NPS).\n",
        "4. Если ставить за цель повышения продаж, при наличии системы скидок можно по аккаунту Клиента прослеживать историю его покупок, делать персонализированные предложения с учётом его интересов. Ещё одно ответвление - предложить \"плохо продаваемый\" товар с учетом скидки.\n",
        "5. Какая корреляция между размером скидки и объемом продаж? Т.е. разобрать механику: сначала мы предлагаем скидку и растим продажы ИЛИ от объема - дисконт?\n",
        "6. так же можно прослеживать, какие наборы продуктов чаще всего покупают вместе? нужно для рекомендаций\n",
        "7. Тенденция снижения дат наблюдается с 2018 года. У 2019 спад продаж почти в половину, в сравнении 2017.С чем он связан? \n",
        "\n",
        "\n",
        "\n",
        "\n"
      ]
    }
  ]
}